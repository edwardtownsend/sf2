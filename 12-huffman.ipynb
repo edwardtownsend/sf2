{
 "cells": [
  {
   "cell_type": "code",
   "execution_count": 1,
   "metadata": {},
   "outputs": [],
   "source": [
    "import numpy as np\n",
    "import matplotlib.pyplot as plt\n",
    "import IPython.display\n",
    "\n",
    "from cued_sf2_lab.familiarisation import load_mat_img, plot_image"
   ]
  },
  {
   "cell_type": "markdown",
   "metadata": {},
   "source": [
    "# 12. Combined run-length / Huffman coding methods\n",
    "\n",
    "<div class=\"alert alert-warning alert-block\">\n",
    "    \n",
    "This notebook is incomplete!</div>\n",
    "\n",
    "Up to this point, we have been using entropy as a measure of the number of bits for the\n",
    "compressed image.  Now we attempt to produce a vector of compressed image data\n",
    "which accurately represents the compression that can be achieved in practise.\n",
    "\n",
    "Huffman codes are relatively\n",
    "efficient at coding data with non-uniform probability distributions, provided\n",
    "that the probability of any single event does not exceed 50%.  However, when\n",
    "an image is transformed by any of the energy compaction methods\n",
    "considered so far, a high proportion of the quantised coefficients are zero,\n",
    "so this event usually does have a probability much greater than 50%.  In fact\n",
    "it is only when this _is_ a high probability event that high compression\n",
    "can be achieved!  Therefore new ways of using Huffman codes have been\n",
    "developed to deal with this situation as efficiently as possible."
   ]
  },
  {
   "cell_type": "markdown",
   "metadata": {},
   "source": [
    "## 12.1 Baseline JPEG coding techniques\n",
    "\n",
    "The standard Huffman coding solution, used by the baseline JPEG\n",
    "specification and most other image compression standards, is to code each\n",
    "non-zero coefficient combined with the number of zero coefficients which\n",
    "preceed it as a single event.\n",
    "\n",
    "For example the sequence of coefficients:\n",
    "$$\n",
    "3, 0, 0, -2, 0, 0, 0, 1, 0, -3, -1, 0, 0, 0, 0, 1, \\ldots\n",
    "$$\n",
    "would be coded as the following 6 events:\n",
    "```\n",
    "0 zeros, 3\n",
    "2 zeros, -2\n",
    "3 zeros, 1\n",
    "1 zero, -3\n",
    "0 zeros, -1\n",
    "4 zeros, 1\n",
    "```\n",
    "\n",
    "Each event has a certain probability (usually well below 50%) and\n",
    "can be coded efficiently with a standard Huffman code.  As\n",
    "formulated above, the number of combinations of amplitude and\n",
    "run-length can be very large, leading to a highly complex code.\n",
    "JPEG limits this complexity to only 162 combinations by\n",
    "restricting the maximum run-length to 15 zeros and by coding only\n",
    "the base-2 logarithm of the amplitude in the Huffman code, rounded\n",
    "up to integers from 1 to 10.  The sign bit and the remaining\n",
    "amplitude bits are then appended to the Huffman code word.  16 run lengths (0 to\n",
    "15) and 10 log amplitudes (1 to 10) give 160 of the code words.\n",
    "The other two codewords are the end-of-block word (EOB),\n",
    "signifying no more non-zero coefficients in the current block, and\n",
    "the run-of-16 word (ZRL), which may be used repetitively ahead of\n",
    "another codeword for runs of 16 or more zeros.\n",
    "\n",
    "JPEG is based on $8 \\times 8$ DCT transformations of the image, and the data\n",
    "from each $8 \\times 8$ block of DCT coefficients is coded as a block of\n",
    "Huffman codewords.  First the dc coefficient (top left corner) is coded.\n",
    "There is little penalty in using a fixed-length binary code for this, although\n",
    "JPEG uses differential and Huffman coding for slightly improved performance.\n",
    "Then the remaining 63 ac coefficients are arranged into a linear vector, by\n",
    "scanning the $8 \\times 8$ block in a zig-zag manner corresponding to\n",
    "progressively increasing frequencies (see the JPEG standard, section 3, fig 5).  This places\n",
    "the larger low-frequency coefficients close together near the start of the\n",
    "vector (with short run lengths) and the smaller high-frequency coefficients\n",
    "spread out towards the end of the vector (with long run lengths).  The\n",
    "end-of-block word efficiently terminates the coding of each block after the\n",
    "last non-zero coefficient.\n",
    "\n",
    "For further details of the JPEG techniques, referred to above, see the JPEG\n",
    "standard, sections 3.3 and 3.6 and appendices A.3, C, F.1.1, F.1.2, F.2.1,\n",
    "F.2.2, K.1, K.2, and K.3.  Note that for this project we ignore the higher\n",
    "layers of the JPEG specification, and do not align code segments with byte\n",
    "boundaries or use two-byte marker codes to identify different data segments.\n",
    "JPEG also permits arithmetic codes to be used instead of Huffman codes, but\n",
    "these are more complicated so we recommend that you should use the latter.\n"
   ]
  },
  {
   "cell_type": "markdown",
   "metadata": {},
   "source": [
    "## 12.2 Python implementation of Huffman coding\n",
    "\n",
    "<div class=\"alert alert-warning alert-block\">\n",
    "    \n",
    "This section is **very** incomplete!</div>\n",
    "\n",
    "\n",
    "The file at `cued_sf2_lab/jpeg.py` contains implementations of the following functions:\n",
    "\n",
    "* `jpegenc`: perform simplified JPEG encoding of an image `X` into a matrix of variable length codewords `vlc`.\n",
    "* `jpegdec`: perform simplified JPEG decoding of a codeword matrix `vlc` into an image `Z`.\n",
    "* `quant1`: quantise a matrix into integers representing the quantiser step numbers, which is the form necessary to allow Huffman coding.\n",
    "* `quant2`: reconstruct a matrix from integers.  Together with `quant1` this is equivalent to `quantise`.\n",
    "* `runampl`: convert a vector of coefficients `a` into a matrix of run-length, log-amplitude and signed-remainder values `rsa`.\n",
    "* `huffenc`: convert a run/amplitude matrix `rsa` into a matrix of variable-length codewords `vlc`.\n",
    "* `huffdflt`: generate the specification table `hufftab`, for the default JPEG Huffman code tables for AC luminance\n",
    "or AC chrominance coefficients (JPEG specification, appendix K.3.3.2).\n",
    "* `huffdes`: design the specification table, `hufftab`, for optimised JPEG Huffman code tables using a histogram of\n",
    "codeword usage `huffhist`.\n",
    "* `huffgen`: generate the Huffman code tables, `huffcode` and `ehuf`, from `hufftab`."
   ]
  },
  {
   "cell_type": "code",
   "execution_count": 2,
   "metadata": {},
   "outputs": [],
   "source": [
    "from cued_sf2_lab.jpeg import (\n",
    "    jpegenc, jpegdec, quant1, quant2, huffenc, huffdflt, huffdes, huffgen)"
   ]
  },
  {
   "cell_type": "markdown",
   "metadata": {},
   "source": [
    "In order to allow relatively fast decoding in Python, we have cheated a\n",
    "little in the format of the coded data.  Each variable-length codeword is\n",
    "stored as an integer element of the required word length in the first column\n",
    "of a 2-column matrix `vlc` and the length of the codeword in bits is\n",
    "stored next to it in the second column.  We do not bother to pack this data\n",
    "into a serial bit stream since it is awkward and time consuming to unpack in\n",
    "Matlab, and we have not got around to changing this now that the lab is in Python!\n",
    "The length of the bit-stream if it were packed can easily be obtained\n",
    "from `vlc[:,1].sum()`."
   ]
  },
  {
   "cell_type": "markdown",
   "metadata": {},
   "source": [
    "To perform the simplified JPEG encoding, based on the $8 \\times 8$ DCT,\n",
    "load the image in `X` and type:  `vlc, hufftab = jpegenc(X, qstep)`.\n",
    "You can inspect the codewords with `dict(zip(hufftab.huffval, hufftab.codes))`."
   ]
  },
  {
   "cell_type": "code",
   "execution_count": 3,
   "metadata": {},
   "outputs": [],
   "source": [
    "# your code here\n"
   ]
  },
  {
   "cell_type": "markdown",
   "metadata": {},
   "source": [
    "This produces variable-length coded data in `vlc`, using quantisation step sizes of qstep.  To decode `vlc`, type:  `Z = jpegdec(vlc, qstep)`"
   ]
  },
  {
   "cell_type": "code",
   "execution_count": 5,
   "metadata": {},
   "outputs": [],
   "source": [
    "# your code here"
   ]
  },
  {
   "cell_type": "markdown",
   "metadata": {},
   "source": [
    "This `jpeg.py` file is given to you as examples of how to achieve a complete compression\n",
    "system. They have other options and outputs, and in general you will need to copy them to a new\n",
    "file and modify them to perform your own algorithms.\n",
    "\n",
    "In `jpegenc`, there are two ways to specify the Huffman\n",
    "tables: either the default JPEG AC luminance or chrominance tables\n",
    "may be used; or custom tables may be designed, based on statistics\n",
    "in the histogram vector `huffhist`. To generate a valid\n",
    "histogram for `huffdes`, coding must be performed at least\n",
    "once using `huffdflt` instead, so `jpegenc` is written\n",
    "such that the default tables are used first and then, if required,\n",
    "the code is redesigned using custom tables. Note that if it is\n",
    "planned to use `huffdes` to generate an optimised Huffman code\n",
    "for each new image to be coded, then the specification tables `hufftab.bits` and `hufftab.huffval` must be sent with the compressed image,\n",
    "which costs (16 + 162) bytes = 1424 bits.  You should consider\n",
    "whether or not this is a sensible strategy."
   ]
  },
  {
   "cell_type": "markdown",
   "metadata": {},
   "source": [
    "## Going beyond JPEG and the DCT\n",
    "\n",
    "If you have chosen the DCT as one of your energy compaction\n",
    "methods then it is fairly straightforward to follow the JPEG\n",
    "guidelines for coding the coefficients.  However if you have\n",
    "chosen one of the other methods then a modified scanning strategy is required.\n",
    "\n",
    "It has already been mentioned that the LBT (which is at the heart of the JPEG-XR standard) is often coded several sub-blocks at a time. We can make a smaller LBT ($4 \\times 4$ is the default) look like a $16 \\times 16$ DCT by using the `regroup(Yq, 4)` function within each $16 \\times 16$ block of `Yq`. The functions `jpegenc` and `jpegdec` have already been written to do this if the `M` argument (which specifies the {\\em coding} block size) is larger than the `N` argument (which specifies the DCT block size).\n",
    "\n",
    "The DWT (which is the basis of the JPEG2000 standard) can also be re-arranged to make it look similar to a DCT. For instance, a 3-level DWT could be re-arranged into an $8 \\times 8$ block $B$ using coefficients from the same\n",
    "square spatial area:\n",
    "\n",
    "\n",
    "> 4 values from level 3: $B3$ = [$UU_3$ $VU_3$; $UV_3$, $VV_3$]  \n",
    "> 3 surrounding $2 \\times 2$ blocks from level 2: $B2$ = [$B3$ $VU_2$; $UV_2$ $VV_2$]  \n",
    "> 3 surrounding $4 \\times 4$ blocks from level 1: $B$ = [$B2$ $VU_1$; $UV_1$ $VV_1$]\n",
    "\n",
    "It is not possible to achieve this sort of grouping using the simple `regroup` function, so we have provided a more complicated function \n",
    "`dwtgroup(X,n)` which converts an n-level DWT sub-image set into blocks of size $N \\times N$ (where $N = 2^n$) with the above type of grouping.  Try this\n",
    "function on some small regular matrices (e.g. `np.arange(16*16).reshape(16, 16)`) to\n",
    "see how it works. Note that `dwtgroup(X, -n)` reverses this grouping."
   ]
  },
  {
   "cell_type": "code",
   "execution_count": 7,
   "metadata": {},
   "outputs": [
    {
     "name": "stdout",
     "output_type": "stream",
     "text": [
      "[[(0, 0) (0, 2) (0, 4) (0, 5) (0, 1) (0, 3) (0, 6) (0, 7)]\n",
      " [(2, 0) (2, 2) (1, 4) (1, 5) (2, 1) (2, 3) (1, 6) (1, 7)]\n",
      " [(4, 0) (4, 1) (4, 4) (4, 5) (4, 2) (4, 3) (4, 6) (4, 7)]\n",
      " [(5, 0) (5, 1) (5, 4) (5, 5) (5, 2) (5, 3) (5, 6) (5, 7)]\n",
      " [(1, 0) (1, 2) (2, 4) (2, 5) (1, 1) (1, 3) (2, 6) (2, 7)]\n",
      " [(3, 0) (3, 2) (3, 4) (3, 5) (3, 1) (3, 3) (3, 6) (3, 7)]\n",
      " [(6, 0) (6, 1) (6, 4) (6, 5) (6, 2) (6, 3) (6, 6) (6, 7)]\n",
      " [(7, 0) (7, 1) (7, 4) (7, 5) (7, 2) (7, 3) (7, 6) (7, 7)]]\n"
     ]
    }
   ],
   "source": [
    "from cued_sf2_lab.jpeg import dwtgroup\n",
    "# this is a nice trick to get an array of coordinates; use `display(x)` to check what this is doing\n",
    "i, j = np.indices((8, 8))\n",
    "x = np.rec.array((i, j))\n",
    "print(dwtgroup(x, 2))"
   ]
  },
  {
   "cell_type": "markdown",
   "metadata": {},
   "source": [
    "\n",
    "With these modified scanning strategies, the JPEG run-length / log amplitude coding can then be used for each vector in the same way as for the DCT coefficients. However, these scanning strategies are not optimal, and do not represent those outlined in the JPEG2000 and JPEG-XR standards.\n",
    "\n",
    "You should write versions of `jpegenc` and `jpegdec` for\n",
    "your chosen compression strategies and check the following:\n",
    "1. The rms error (standard deviation) between the decoded and original\n",
    "images should be the same as for the equivalent quantisation\n",
    "strategies that were tested in the previous section on\n",
    "centre-clipped linear quantisers.  No extra errors should be\n",
    "introduced by the scanning or Huffman encode / decode operations.\n",
    "\n",
    "2. The number of bits required to code an image should be comparable with\n",
    "the value predicted from the entropy of the quantised coefficients (i.e.\n",
    "within about 20%).  Note that it is possible to code with fewer bits than\n",
    "predicted by the entropy because the run-length coding can take advantage of\n",
    "clustering of non-zero coefficients, which is not taken account of in the\n",
    "first-order entropy calculations.\n",
    "\n"
   ]
  },
  {
   "cell_type": "markdown",
   "metadata": {},
   "source": []
  }
 ],
 "metadata": {
  "kernelspec": {
   "display_name": "Python 3.8.13 64-bit ('3.8.13')",
   "language": "python",
   "name": "python3"
  },
  "language_info": {
   "codemirror_mode": {
    "name": "ipython",
    "version": 3
   },
   "file_extension": ".py",
   "mimetype": "text/x-python",
   "name": "python",
   "nbconvert_exporter": "python",
   "pygments_lexer": "ipython3",
   "version": "3.8.13"
  },
  "vscode": {
   "interpreter": {
    "hash": "110cc1dee26208153f2972f08a2ad52b6a56238dc66d48e87fb757ef2996db56"
   }
  }
 },
 "nbformat": 4,
 "nbformat_minor": 2
}
